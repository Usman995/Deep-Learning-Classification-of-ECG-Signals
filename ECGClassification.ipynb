{
  "cells": [
    {
      "cell_type": "markdown",
      "metadata": {
        "id": "XaJDnsdhvDGg"
      },
      "source": [
        "# ARRYTHMIA CLASSIFICATION of two Lead ECG signals using Deep Learning\n",
        "\n"
      ]
    },
    {
      "cell_type": "markdown",
      "metadata": {
        "id": "X1-xEZIjwwT2"
      },
      "source": [
        "# **Imports**"
      ]
    },
    {
      "cell_type": "code",
      "execution_count": 53,
      "metadata": {
        "colab": {
          "base_uri": "https://localhost:8080/"
        },
        "id": "5E4nG3IpDUqV",
        "outputId": "77ce8e06-6dfb-434d-ab8b-fd52aeaeb232"
      },
      "outputs": [
        {
          "output_type": "stream",
          "name": "stdout",
          "text": [
            "Drive already mounted at /content/drive; to attempt to forcibly remount, call drive.mount(\"/content/drive\", force_remount=True).\n"
          ]
        }
      ],
      "source": [
        "from google.colab import drive\n",
        "drive.mount('/content/drive')"
      ]
    },
    {
      "cell_type": "code",
      "execution_count": 54,
      "metadata": {
        "colab": {
          "base_uri": "https://localhost:8080/"
        },
        "id": "hDj1dMACGYYP",
        "outputId": "32f9f0c4-abdf-45a8-952d-db26e2326a11"
      },
      "outputs": [
        {
          "output_type": "stream",
          "name": "stdout",
          "text": [
            "Looking in indexes: https://pypi.org/simple, https://us-python.pkg.dev/colab-wheels/public/simple/\n",
            "Requirement already satisfied: wfdb in /usr/local/lib/python3.7/dist-packages (4.0.0)\n",
            "Requirement already satisfied: requests<3.0.0,>=2.8.1 in /usr/local/lib/python3.7/dist-packages (from wfdb) (2.23.0)\n",
            "Requirement already satisfied: matplotlib<4.0.0,>=3.2.2 in /usr/local/lib/python3.7/dist-packages (from wfdb) (3.2.2)\n",
            "Requirement already satisfied: numpy<2.0.0,>=1.10.1 in /usr/local/lib/python3.7/dist-packages (from wfdb) (1.21.6)\n",
            "Requirement already satisfied: pandas<2.0.0,>=1.0.0 in /usr/local/lib/python3.7/dist-packages (from wfdb) (1.3.5)\n",
            "Requirement already satisfied: scipy<2.0.0,>=1.0.0 in /usr/local/lib/python3.7/dist-packages (from wfdb) (1.7.3)\n",
            "Requirement already satisfied: SoundFile<0.12.0,>=0.10.0 in /usr/local/lib/python3.7/dist-packages (from wfdb) (0.10.3.post1)\n",
            "Requirement already satisfied: pyparsing!=2.0.4,!=2.1.2,!=2.1.6,>=2.0.1 in /usr/local/lib/python3.7/dist-packages (from matplotlib<4.0.0,>=3.2.2->wfdb) (3.0.9)\n",
            "Requirement already satisfied: cycler>=0.10 in /usr/local/lib/python3.7/dist-packages (from matplotlib<4.0.0,>=3.2.2->wfdb) (0.11.0)\n",
            "Requirement already satisfied: python-dateutil>=2.1 in /usr/local/lib/python3.7/dist-packages (from matplotlib<4.0.0,>=3.2.2->wfdb) (2.8.2)\n",
            "Requirement already satisfied: kiwisolver>=1.0.1 in /usr/local/lib/python3.7/dist-packages (from matplotlib<4.0.0,>=3.2.2->wfdb) (1.4.4)\n",
            "Requirement already satisfied: typing-extensions in /usr/local/lib/python3.7/dist-packages (from kiwisolver>=1.0.1->matplotlib<4.0.0,>=3.2.2->wfdb) (4.1.1)\n",
            "Requirement already satisfied: pytz>=2017.3 in /usr/local/lib/python3.7/dist-packages (from pandas<2.0.0,>=1.0.0->wfdb) (2022.2.1)\n",
            "Requirement already satisfied: six>=1.5 in /usr/local/lib/python3.7/dist-packages (from python-dateutil>=2.1->matplotlib<4.0.0,>=3.2.2->wfdb) (1.15.0)\n",
            "Requirement already satisfied: idna<3,>=2.5 in /usr/local/lib/python3.7/dist-packages (from requests<3.0.0,>=2.8.1->wfdb) (2.10)\n",
            "Requirement already satisfied: urllib3!=1.25.0,!=1.25.1,<1.26,>=1.21.1 in /usr/local/lib/python3.7/dist-packages (from requests<3.0.0,>=2.8.1->wfdb) (1.24.3)\n",
            "Requirement already satisfied: chardet<4,>=3.0.2 in /usr/local/lib/python3.7/dist-packages (from requests<3.0.0,>=2.8.1->wfdb) (3.0.4)\n",
            "Requirement already satisfied: certifi>=2017.4.17 in /usr/local/lib/python3.7/dist-packages (from requests<3.0.0,>=2.8.1->wfdb) (2022.6.15)\n",
            "Requirement already satisfied: cffi>=1.0 in /usr/local/lib/python3.7/dist-packages (from SoundFile<0.12.0,>=0.10.0->wfdb) (1.15.1)\n",
            "Requirement already satisfied: pycparser in /usr/local/lib/python3.7/dist-packages (from cffi>=1.0->SoundFile<0.12.0,>=0.10.0->wfdb) (2.21)\n",
            "Looking in indexes: https://pypi.org/simple, https://us-python.pkg.dev/colab-wheels/public/simple/\n",
            "Requirement already satisfied: scikeras in /usr/local/lib/python3.7/dist-packages (0.9.0)\n",
            "Requirement already satisfied: importlib-metadata>=3 in /usr/local/lib/python3.7/dist-packages (from scikeras) (4.12.0)\n",
            "Requirement already satisfied: packaging>=0.21 in /usr/local/lib/python3.7/dist-packages (from scikeras) (21.3)\n",
            "Requirement already satisfied: scikit-learn>=1.0.0 in /usr/local/lib/python3.7/dist-packages (from scikeras) (1.0.2)\n",
            "Requirement already satisfied: typing-extensions>=3.6.4 in /usr/local/lib/python3.7/dist-packages (from importlib-metadata>=3->scikeras) (4.1.1)\n",
            "Requirement already satisfied: zipp>=0.5 in /usr/local/lib/python3.7/dist-packages (from importlib-metadata>=3->scikeras) (3.8.1)\n",
            "Requirement already satisfied: pyparsing!=3.0.5,>=2.0.2 in /usr/local/lib/python3.7/dist-packages (from packaging>=0.21->scikeras) (3.0.9)\n",
            "Requirement already satisfied: numpy>=1.14.6 in /usr/local/lib/python3.7/dist-packages (from scikit-learn>=1.0.0->scikeras) (1.21.6)\n",
            "Requirement already satisfied: scipy>=1.1.0 in /usr/local/lib/python3.7/dist-packages (from scikit-learn>=1.0.0->scikeras) (1.7.3)\n",
            "Requirement already satisfied: joblib>=0.11 in /usr/local/lib/python3.7/dist-packages (from scikit-learn>=1.0.0->scikeras) (1.1.0)\n",
            "Requirement already satisfied: threadpoolctl>=2.0.0 in /usr/local/lib/python3.7/dist-packages (from scikit-learn>=1.0.0->scikeras) (3.1.0)\n",
            "Looking in indexes: https://pypi.org/simple, https://us-python.pkg.dev/colab-wheels/public/simple/\n",
            "Requirement already satisfied: wget in /usr/local/lib/python3.7/dist-packages (3.2)\n",
            "Reading package lists... Done\n",
            "Building dependency tree       \n",
            "Reading state information... Done\n",
            "unzip is already the newest version (6.0-21ubuntu1.1).\n",
            "The following package was automatically installed and is no longer required:\n",
            "  libnvidia-common-460\n",
            "Use 'apt autoremove' to remove it.\n",
            "0 upgraded, 0 newly installed, 0 to remove and 20 not upgraded.\n",
            "Looking in indexes: https://pypi.org/simple, https://us-python.pkg.dev/colab-wheels/public/simple/\n",
            "Requirement already satisfied: ecg-plot in /usr/local/lib/python3.7/dist-packages (0.2.8)\n"
          ]
        }
      ],
      "source": [
        "! pip install wfdb\n",
        "! pip install scikeras\n",
        "! pip install wget\n",
        "! apt install unzip\n",
        "! pip install ecg-plot "
      ]
    },
    {
      "cell_type": "markdown",
      "source": [
        "Importing all the packages needed for this project"
      ],
      "metadata": {
        "id": "BPUDPBoZvXeC"
      }
    },
    {
      "cell_type": "code",
      "execution_count": 114,
      "metadata": {
        "id": "PEC0oiEGvSNH"
      },
      "outputs": [],
      "source": [
        "import pandas as pd\n",
        "import tensorflow as tf\n",
        "from tensorflow import keras\n",
        "from keras import layers\n",
        "import numpy as np\n",
        "import os\n",
        "import sys\n",
        "import torch\n",
        "import matplotlib.pyplot as plt\n",
        "from sklearn.metrics import classification_report\n",
        "from sklearn.metrics import f1_score\n",
        "from sklearn.metrics import confusion_matrix\n",
        "from keras.utils.np_utils import to_categorical\n",
        "import wfdb\n",
        "import tarfile\n",
        "from sklearn.preprocessing import MultiLabelBinarizer\n",
        "from sklearn.model_selection import StratifiedKFold\n",
        "from keras_preprocessing.sequence import pad_sequences\n",
        "import math\n",
        "import warnings\n",
        "import wget\n",
        "from keras import utils\n",
        "from keras.models import Sequential,Model,load_model\n",
        "from keras.layers import Dense, LSTM, CuDNNLSTM,CuDNNGRU\n",
        "from keras.callbacks import ModelCheckpoint, LearningRateScheduler\n",
        "from keras import losses\n",
        "from keras.callbacks import Callback\n",
        "import keras.backend\n",
        "from keras.layers import Dropout\n",
        "from scikeras.wrappers import KerasClassifier\n",
        "from sklearn.preprocessing import LabelEncoder\n",
        "import scipy.stats as stats"
      ]
    },
    {
      "cell_type": "markdown",
      "source": [
        "Loading in 12 lead Data"
      ],
      "metadata": {
        "id": "kMlCsIID1OvJ"
      }
    },
    {
      "cell_type": "code",
      "execution_count": 100,
      "metadata": {
        "id": "IXAu5sEP4jo_"
      },
      "outputs": [],
      "source": [
        "from wfdb.io import annotation\n",
        "\n",
        "def load_data(sample_path):\n",
        "    sig, fields = wfdb.rdsamp(sample_path)\n",
        "\n",
        "    return sig, fields\n",
        "    "
      ]
    },
    {
      "cell_type": "markdown",
      "source": [
        "# Feature Description"
      ],
      "metadata": {
        "id": "q4opcUdF2ab3"
      }
    },
    {
      "cell_type": "markdown",
      "source": [
        "**Primary** **Features**"
      ],
      "metadata": {
        "id": "E2d0aQJ425BS"
      }
    },
    {
      "cell_type": "markdown",
      "source": [
        "This dataset contains 1425 ECG recordings from different patients. The data is given in the form of native python waveform-database format(WFDB). There are three file types:\n",
        "\n",
        "\n",
        "\n",
        "1.   Header Files (.hea)\n",
        "2.   Signal Files (.dat)\n",
        "2.   Atrribute Files (.atr)\n",
        "\n",
        "\n",
        "\n",
        "\n",
        "\n",
        "\n",
        "\n",
        "\n",
        "\n",
        "\n",
        "\n"
      ],
      "metadata": {
        "id": "h8Ekv8fqC8tU"
      }
    },
    {
      "cell_type": "markdown",
      "source": [
        "Downloading data from physionet website"
      ],
      "metadata": {
        "id": "SuvIEPlUu2Qi"
      }
    },
    {
      "cell_type": "code",
      "source": [
        "url = 'https://physionet.org/static/published-projects/cpsc2021/paroxysmal-atrial-fibrillation-events-detection-from-dynamic-ecg-recordings-the-4th-china-physiological-signal-challenge-2021-1.0.0.zip'\n",
        "filename = wget.download(url)\n"
      ],
      "metadata": {
        "id": "k7_XFXSCsrxS"
      },
      "execution_count": 102,
      "outputs": []
    },
    {
      "cell_type": "markdown",
      "source": [
        "Unzipping Data"
      ],
      "metadata": {
        "id": "W_xYGwDBut99"
      }
    },
    {
      "cell_type": "code",
      "source": [
        "import zipfile\n",
        "zip = zipfile.ZipFile(filename)\n",
        "zip.extractall()"
      ],
      "metadata": {
        "id": "1EOiUalGs86h"
      },
      "execution_count": 105,
      "outputs": []
    },
    {
      "cell_type": "markdown",
      "metadata": {
        "id": "2nb3SYTsw1Fb"
      },
      "source": [
        "# Working with 2 Lead Data"
      ]
    },
    {
      "cell_type": "markdown",
      "source": [
        "Example 2 Lead Data"
      ],
      "metadata": {
        "id": "Ze8EEiGHgWI5"
      }
    },
    {
      "cell_type": "code",
      "source": [
        "record = wfdb.rdrecord(\"./paroxysmal-atrial-fibrillation-events-detection-from-dynamic-ecg-recordings-the-4th-china-physiological-signal-challenge-2021-1.0.0/Training_set_I/data_0_10\")\n",
        "wfdb.plot_wfdb(record= record, title='Record data_0_10 from PhysioNet Challenge 2021') \n",
        "display(record.__dict__)\n"
      ],
      "metadata": {
        "id": "H5U1Au_ngLal",
        "colab": {
          "base_uri": "https://localhost:8080/",
          "height": 884
        },
        "outputId": "8b087000-fc89-4010-adfc-9520b55f5a1c"
      },
      "execution_count": 113,
      "outputs": [
        {
          "output_type": "display_data",
          "data": {
            "text/plain": [
              "<Figure size 432x288 with 2 Axes>"
            ],
            "image/png": "[encoded data removed]"
          },
          "metadata": {
            "needs_background": "light"
          }
        },
        {
          "output_type": "display_data",
          "data": {
            "text/plain": [
              "{'record_name': 'data_0_10',\n",
              " 'n_sig': 2,\n",
              " 'fs': 200,\n",
              " 'counter_freq': None,\n",
              " 'base_counter': None,\n",
              " 'sig_len': 156768,\n",
              " 'base_time': None,\n",
              " 'base_date': None,\n",
              " 'comments': ['non atrial fibrillation'],\n",
              " 'sig_name': ['I', 'II'],\n",
              " 'p_signal': array([[-0.04867337, -0.27253734],\n",
              "        [-0.05505853, -0.30568262],\n",
              "        [-0.04101658, -0.27356643],\n",
              "        ...,\n",
              "        [ 0.03760755,  0.00368757],\n",
              "        [ 0.02562183, -0.00587439],\n",
              "        [ 0.04891687,  0.00913317]]),\n",
              " 'd_signal': None,\n",
              " 'e_p_signal': None,\n",
              " 'e_d_signal': None,\n",
              " 'file_name': ['data_0_10.dat', 'data_0_10.dat'],\n",
              " 'fmt': ['16', '16'],\n",
              " 'samps_per_frame': [1, 1],\n",
              " 'skew': [None, None],\n",
              " 'byte_offset': [None, None],\n",
              " 'adc_gain': [36960.66594624795, 23321.574588417934],\n",
              " 'baseline': [-2430, -18661],\n",
              " 'units': ['mV', 'mV'],\n",
              " 'adc_res': [16, 16],\n",
              " 'adc_zero': [0, 0],\n",
              " 'init_value': [-4229, -25017],\n",
              " 'checksum': [41165, 7554],\n",
              " 'block_size': [0, 0]}"
            ]
          },
          "metadata": {}
        }
      ]
    },
    {
      "cell_type": "code",
      "source": [
        "two_Leaddf = pd.DataFrame(record.p_signal, columns=['Lead I','Lead II'])\n",
        "two_Leaddf.head(10)"
      ],
      "metadata": {
        "id": "Uw6mk9mHgjYL",
        "colab": {
          "base_uri": "https://localhost:8080/",
          "height": 363
        },
        "outputId": "0cf0b147-1df4-4983-8c22-0266185352e2"
      },
      "execution_count": 60,
      "outputs": [
        {
          "output_type": "execute_result",
          "data": {
            "text/plain": [
              "     Lead I   Lead II\n",
              "0 -0.048673 -0.272537\n",
              "1 -0.055059 -0.305683\n",
              "2 -0.041017 -0.273566\n",
              "3 -0.026650 -0.251998\n",
              "4 -0.044020 -0.263962\n",
              "5 -0.083873 -0.304182\n",
              "6 -0.080978 -0.319232\n",
              "7 -0.080004 -0.326307\n",
              "8 -0.072591 -0.315330\n",
              "9 -0.163904 -0.380506"
            ],
            "text/html": [
              "\n",
              "  <div id=\"df-584abcd9-af7d-48d7-a9ff-585278c89b56\">\n",
              "    <div class=\"colab-df-container\">\n",
              "      <div>\n",
              "<style scoped>\n",
              "    .dataframe tbody tr th:only-of-type {\n",
              "        vertical-align: middle;\n",
              "    }\n",
              "\n",
              "    .dataframe tbody tr th {\n",
              "        vertical-align: top;\n",
              "    }\n",
              "\n",
              "    .dataframe thead th {\n",
              "        text-align: right;\n",
              "    }\n",
              "</style>\n",
              "<table border=\"1\" class=\"dataframe\">\n",
              "  <thead>\n",
              "    <tr style=\"text-align: right;\">\n",
              "      <th></th>\n",
              "      <th>Lead I</th>\n",
              "      <th>Lead II</th>\n",
              "    </tr>\n",
              "  </thead>\n",
              "  <tbody>\n",
              "    <tr>\n",
              "      <th>0</th>\n",
              "      <td>-0.048673</td>\n",
              "      <td>-0.272537</td>\n",
              "    </tr>\n",
              "    <tr>\n",
              "      <th>1</th>\n",
              "      <td>-0.055059</td>\n",
              "      <td>-0.305683</td>\n",
              "    </tr>\n",
              "    <tr>\n",
              "      <th>2</th>\n",
              "      <td>-0.041017</td>\n",
              "      <td>-0.273566</td>\n",
              "    </tr>\n",
              "    <tr>\n",
              "      <th>3</th>\n",
              "      <td>-0.026650</td>\n",
              "      <td>-0.251998</td>\n",
              "    </tr>\n",
              "    <tr>\n",
              "      <th>4</th>\n",
              "      <td>-0.044020</td>\n",
              "      <td>-0.263962</td>\n",
              "    </tr>\n",
              "    <tr>\n",
              "      <th>5</th>\n",
              "      <td>-0.083873</td>\n",
              "      <td>-0.304182</td>\n",
              "    </tr>\n",
              "    <tr>\n",
              "      <th>6</th>\n",
              "      <td>-0.080978</td>\n",
              "      <td>-0.319232</td>\n",
              "    </tr>\n",
              "    <tr>\n",
              "      <th>7</th>\n",
              "      <td>-0.080004</td>\n",
              "      <td>-0.326307</td>\n",
              "    </tr>\n",
              "    <tr>\n",
              "      <th>8</th>\n",
              "      <td>-0.072591</td>\n",
              "      <td>-0.315330</td>\n",
              "    </tr>\n",
              "    <tr>\n",
              "      <th>9</th>\n",
              "      <td>-0.163904</td>\n",
              "      <td>-0.380506</td>\n",
              "    </tr>\n",
              "  </tbody>\n",
              "</table>\n",
              "</div>\n",
              "      <button class=\"colab-df-convert\" onclick=\"convertToInteractive('df-584abcd9-af7d-48d7-a9ff-585278c89b56')\"\n",
              "              title=\"Convert this dataframe to an interactive table.\"\n",
              "              style=\"display:none;\">\n",
              "        \n",
              "  <svg xmlns=\"http://www.w3.org/2000/svg\" height=\"24px\"viewBox=\"0 0 24 24\"\n",
              "       width=\"24px\">\n",
              "    <path d=\"M0 0h24v24H0V0z\" fill=\"none\"/>\n",
              "    <path d=\"M18.56 5.44l.94 2.06.94-2.06 2.06-.94-2.06-.94-.94-2.06-.94 2.06-2.06.94zm-11 1L8.5 8.5l.94-2.06 2.06-.94-2.06-.94L8.5 2.5l-.94 2.06-2.06.94zm10 10l.94 2.06.94-2.06 2.06-.94-2.06-.94-.94-2.06-.94 2.06-2.06.94z\"/><path d=\"M17.41 7.96l-1.37-1.37c-.4-.4-.92-.59-1.43-.59-.52 0-1.04.2-1.43.59L10.3 9.45l-7.72 7.72c-.78.78-.78 2.05 0 2.83L4 21.41c.39.39.9.59 1.41.59.51 0 1.02-.2 1.41-.59l7.78-7.78 2.81-2.81c.8-.78.8-2.07 0-2.86zM5.41 20L4 18.59l7.72-7.72 1.47 1.35L5.41 20z\"/>\n",
              "  </svg>\n",
              "      </button>\n",
              "      \n",
              "  <style>\n",
              "    .colab-df-container {\n",
              "      display:flex;\n",
              "      flex-wrap:wrap;\n",
              "      gap: 12px;\n",
              "    }\n",
              "\n",
              "    .colab-df-convert {\n",
              "      background-color: #E8F0FE;\n",
              "      border: none;\n",
              "      border-radius: 50%;\n",
              "      cursor: pointer;\n",
              "      display: none;\n",
              "      fill: #1967D2;\n",
              "      height: 32px;\n",
              "      padding: 0 0 0 0;\n",
              "      width: 32px;\n",
              "    }\n",
              "\n",
              "    .colab-df-convert:hover {\n",
              "      background-color: #E2EBFA;\n",
              "      box-shadow: 0px 1px 2px rgba(60, 64, 67, 0.3), 0px 1px 3px 1px rgba(60, 64, 67, 0.15);\n",
              "      fill: #174EA6;\n",
              "    }\n",
              "\n",
              "    [theme=dark] .colab-df-convert {\n",
              "      background-color: #3B4455;\n",
              "      fill: #D2E3FC;\n",
              "    }\n",
              "\n",
              "    [theme=dark] .colab-df-convert:hover {\n",
              "      background-color: #434B5C;\n",
              "      box-shadow: 0px 1px 3px 1px rgba(0, 0, 0, 0.15);\n",
              "      filter: drop-shadow(0px 1px 2px rgba(0, 0, 0, 0.3));\n",
              "      fill: #FFFFFF;\n",
              "    }\n",
              "  </style>\n",
              "\n",
              "      <script>\n",
              "        const buttonEl =\n",
              "          document.querySelector('#df-584abcd9-af7d-48d7-a9ff-585278c89b56 button.colab-df-convert');\n",
              "        buttonEl.style.display =\n",
              "          google.colab.kernel.accessAllowed ? 'block' : 'none';\n",
              "\n",
              "        async function convertToInteractive(key) {\n",
              "          const element = document.querySelector('#df-584abcd9-af7d-48d7-a9ff-585278c89b56');\n",
              "          const dataTable =\n",
              "            await google.colab.kernel.invokeFunction('convertToInteractive',\n",
              "                                                     [key], {});\n",
              "          if (!dataTable) return;\n",
              "\n",
              "          const docLinkHtml = 'Like what you see? Visit the ' +\n",
              "            '<a target=\"_blank\" href=https://colab.research.google.com/notebooks/data_table.ipynb>data table notebook</a>'\n",
              "            + ' to learn more about interactive tables.';\n",
              "          element.innerHTML = '';\n",
              "          dataTable['output_type'] = 'display_data';\n",
              "          await google.colab.output.renderOutput(dataTable, element);\n",
              "          const docLink = document.createElement('div');\n",
              "          docLink.innerHTML = docLinkHtml;\n",
              "          element.appendChild(docLink);\n",
              "        }\n",
              "      </script>\n",
              "    </div>\n",
              "  </div>\n",
              "  "
            ]
          },
          "metadata": {},
          "execution_count": 60
        }
      ]
    },
    {
      "cell_type": "markdown",
      "source": [
        "**Visualising 2 Lead Data**"
      ],
      "metadata": {
        "id": "aqnBB7qWhA0z"
      }
    },
    {
      "cell_type": "code",
      "source": [
        "two_Leaddf_short = two_Leaddf[0:2000]\n",
        "plt.figure(figsize=(26, 16))\n",
        "for i, col in enumerate(two_Leaddf_short.columns[0:]):\n",
        "    plt.subplot(3, 4, i + 1)\n",
        "    plt.plot(two_Leaddf_short[col])\n",
        "    plt.title(col, color = \"white\")"
      ],
      "metadata": {
        "id": "TuwwINiQhAYZ",
        "colab": {
          "base_uri": "https://localhost:8080/",
          "height": 320
        },
        "outputId": "dd65f6e1-f230-4a76-853a-04f55336cadb"
      },
      "execution_count": 61,
      "outputs": [
        {
          "output_type": "display_data",
          "data": {
            "text/plain": [
              "<Figure size 1872x1152 with 2 Axes>"
            ],
            "image/png": "[encoded data removed]"
          },
          "metadata": {
            "needs_background": "light"
          }
        }
      ]
    },
    {
      "cell_type": "markdown",
      "source": [
        "# Loading in all files"
      ],
      "metadata": {
        "id": "Zbylp9ungJ7z"
      }
    },
    {
      "cell_type": "code",
      "execution_count": 62,
      "metadata": {
        "id": "K7S0Vu4d5YXq"
      },
      "outputs": [],
      "source": [
        "path = '/content/drive/MyDrive/paroxysmal-atrial-fibrillation/'\n",
        "# loading record names\n",
        "record_names = []\n",
        "record_path = []\n",
        "with open(path + 'RECORDS') as my_file:\n",
        "  for line in my_file:\n",
        "    record_path.append(line.rstrip(\"\\n\"))\n",
        "    sp_line = line.split('/')\n",
        "    record_names.append(sp_line[1].rstrip(\"\\n\"))"
      ]
    },
    {
      "cell_type": "code",
      "execution_count": 63,
      "metadata": {
        "id": "A9XWI-E3x5Rz"
      },
      "outputs": [],
      "source": [
        "header_data = []\n",
        "signal_data = np.zeros([1425,5000,2])\n",
        "for i in range(len(record_path)): \n",
        "  data, h_data = load_data(path+record_path[i])\n",
        "  if len(data) < 5000:\n",
        "    arr = np.zeros([5000,2])\n",
        "    arr[0:len(data)] = data\n",
        "    signal_data[i] = arr\n",
        "  else:\n",
        "    signal_data[i] = data[0:5000]\n",
        "  header_data.append(h_data)"
      ]
    },
    {
      "cell_type": "markdown",
      "source": [
        "# Data Preprocessing\n"
      ],
      "metadata": {
        "id": "9Ojxg6nvIY15"
      }
    },
    {
      "cell_type": "markdown",
      "source": [
        "**Signal** **Processing**"
      ],
      "metadata": {
        "id": "SB82mohAKZNV"
      }
    },
    {
      "cell_type": "markdown",
      "source": [
        "In this section we are going to be adding gaussian noise to our signals as well as normalisation using the z-score method."
      ],
      "metadata": {
        "id": "SiXqOkiOIhzu"
      }
    },
    {
      "cell_type": "code",
      "source": [
        "X = np.array(signal_data, dtype=object)\n",
        "X = X.reshape(1425,5000,2)\n",
        "noise = np.random.normal(0, .1, X.shape)\n",
        "noise_X = X + noise"
      ],
      "metadata": {
        "id": "8N0b3Et9JuRe"
      },
      "execution_count": 64,
      "outputs": []
    },
    {
      "cell_type": "code",
      "execution_count": 65,
      "metadata": {
        "id": "JXoiCImo1eJf",
        "colab": {
          "base_uri": "https://localhost:8080/"
        },
        "outputId": "fd5cb096-13b2-4547-a882-42698dd7b7ee"
      },
      "outputs": [
        {
          "output_type": "execute_result",
          "data": {
            "text/plain": [
              "(1425, 5000, 2)"
            ]
          },
          "metadata": {},
          "execution_count": 65
        }
      ],
      "source": [
        "X = stats.zscore(noise_X.astype(float), axis=None)\n",
        "X.shape"
      ]
    },
    {
      "cell_type": "markdown",
      "source": [
        "**Cleaning Our Labels**"
      ],
      "metadata": {
        "id": "3SW8g-IAKXNu"
      }
    },
    {
      "cell_type": "markdown",
      "source": [
        "In this section we are cleaning the removing the diagnosis which are going to be our labels from inside the arrays for each column and replacing all the spaces with '-' "
      ],
      "metadata": {
        "id": "FEtvIErKLBuB"
      }
    },
    {
      "cell_type": "code",
      "source": [
        "y = pd.DataFrame(header_data)  # Converting our header data to a dataframe"
      ],
      "metadata": {
        "id": "SvIevvRbLFzJ"
      },
      "execution_count": 66,
      "outputs": []
    },
    {
      "cell_type": "code",
      "execution_count": 67,
      "metadata": {
        "id": "yJA6TK_BxNyY"
      },
      "outputs": [],
      "source": [
        "y['str_comments'] = y.loc[:,'comments'].str[0]\n",
        "y['str_comments'] = y['str_comments'].str.replace(' ', '-') #'replacing the spaces in our header data'"
      ]
    },
    {
      "cell_type": "markdown",
      "source": [
        "Plotting the distribution of our dataset, we can clearly see that this data is unbalanced from this diagram"
      ],
      "metadata": {
        "id": "fyEedjsSLrH3"
      }
    },
    {
      "cell_type": "code",
      "source": [
        "y['str_comments'].hist()"
      ],
      "metadata": {
        "colab": {
          "base_uri": "https://localhost:8080/",
          "height": 283
        },
        "id": "Ur1rd8Etnxai",
        "outputId": "45ef42ba-36c2-4d0d-c172-c1eda0478007"
      },
      "execution_count": 68,
      "outputs": [
        {
          "output_type": "execute_result",
          "data": {
            "text/plain": [
              "<matplotlib.axes._subplots.AxesSubplot at 0x7f5a08083d50>"
            ]
          },
          "metadata": {},
          "execution_count": 68
        },
        {
          "output_type": "display_data",
          "data": {
            "text/plain": [
              "<Figure size 432x288 with 1 Axes>"
            ],
            "image/png": "[encoded data removed]"
          },
          "metadata": {
            "needs_background": "light"
          }
        }
      ]
    },
    {
      "cell_type": "code",
      "execution_count": 69,
      "metadata": {
        "id": "KD7rOEHv1TW9",
        "colab": {
          "base_uri": "https://localhost:8080/"
        },
        "outputId": "2266c561-fa5c-4345-aa38-0859a8037f15"
      },
      "outputs": [
        {
          "output_type": "stream",
          "name": "stdout",
          "text": [
            "The shortest signal in our dataset is: 1675\n",
            "The shortest signal in our dataset is: 4933325\n"
          ]
        }
      ],
      "source": [
        "print('The shortest signal in our dataset is: ' +  str(y['sig_len'].min()))\n",
        "print('The shortest signal in our dataset is: ' +  str(y['sig_len'].max()))"
      ]
    },
    {
      "cell_type": "markdown",
      "source": [
        "Encoding our diagnosis for training"
      ],
      "metadata": {
        "id": "MJrxIErZMS-B"
      }
    },
    {
      "cell_type": "code",
      "execution_count": 70,
      "metadata": {
        "id": "hHjkvLRY9Yxf",
        "colab": {
          "base_uri": "https://localhost:8080/"
        },
        "outputId": "6edfe7c7-8a7d-4a1e-8c67-efafe4ea94a6"
      },
      "outputs": [
        {
          "output_type": "stream",
          "name": "stdout",
          "text": [
            "Total number of unique combinations of diagnosis: 3\n"
          ]
        }
      ],
      "source": [
        "from sklearn.preprocessing import LabelEncoder\n",
        "encode_df = LabelEncoder()\n",
        "encode_df.fit(y.str_comments)\n",
        "encoded_y = encode_df.transform(y.str_comments)\n",
        "print(\"Total number of unique combinations of diagnosis: {}\".format(len(np.unique(encoded_y))))"
      ]
    },
    {
      "cell_type": "markdown",
      "source": [
        "# LSTM Model"
      ],
      "metadata": {
        "id": "DCQENogyRy1c"
      }
    },
    {
      "cell_type": "code",
      "execution_count": 71,
      "metadata": {
        "id": "UA89FnkS5hus"
      },
      "outputs": [],
      "source": [
        "def LSTM_model(learn_rate = 0.001, momentum = 0.8): \n",
        "  model = Sequential()\n",
        "  model.add(CuDNNLSTM(512, input_shape =(signal_data[0].shape), return_sequences=True))\n",
        "  model.add(Dropout(0.25))\n",
        "  model.add(CuDNNLSTM(256, return_sequences=True)) \n",
        "  model.add(Dropout(0.2))\n",
        "  model.add(CuDNNLSTM(128, return_sequences=True))\n",
        "  model.add(Dropout(0.2))\n",
        "  model.add(CuDNNLSTM(64))\n",
        "  model.add(Dense(3, activation='sigmoid'))\n",
        "  optimizer = tf.keras.optimizers.SGD(learning_rate=learn_rate, momentum = momentum)\n",
        "  model.compile(loss='MSE', optimizer=optimizer, metrics=['accuracy','categorical_accuracy',\"categorical_crossentropy\"])\n",
        "  model.summary()\n",
        "  return model\n"
      ]
    },
    {
      "cell_type": "markdown",
      "source": [
        "# Splitting Data using Stratified K Fold"
      ],
      "metadata": {
        "id": "cnBDKGYliGOX"
      }
    },
    {
      "cell_type": "code",
      "execution_count": 72,
      "metadata": {
        "id": "NMICioGqO8qZ"
      },
      "outputs": [],
      "source": [
        "data_for_crossval= list(StratifiedKFold(n_splits=3, shuffle=True, random_state=42).split(X, y.str_comments))\n",
        "X_opt = X[data_for_crossval[0][1]]\n",
        "y_opt_skf = encoded_y[data_for_crossval[0][1]]\n",
        "y_opt= to_categorical(y_opt_skf)"
      ]
    },
    {
      "cell_type": "code",
      "execution_count": 73,
      "metadata": {
        "id": "3SubvGx-tQrL",
        "colab": {
          "base_uri": "https://localhost:8080/"
        },
        "outputId": "4c4baa4e-77fd-4e99-d238-4eaae06ec8db"
      },
      "outputs": [
        {
          "output_type": "stream",
          "name": "stdout",
          "text": [
            "Done\n"
          ]
        }
      ],
      "source": [
        "model = KerasClassifier(model=LSTM_model, verbose=1, epochs = 10, batch_size = 10)\n",
        "print(\"Done\")"
      ]
    },
    {
      "cell_type": "code",
      "execution_count": 74,
      "metadata": {
        "id": "nOYxcNfItbHR"
      },
      "outputs": [],
      "source": [
        "from sklearn.model_selection import StratifiedKFold\n",
        "skf = StratifiedKFold(n_splits=3)"
      ]
    },
    {
      "cell_type": "markdown",
      "source": [
        "# Hyper Parameter Optimization"
      ],
      "metadata": {
        "id": "PawI9gAHh8Ys"
      }
    },
    {
      "cell_type": "code",
      "execution_count": 75,
      "metadata": {
        "id": "xAivLLVRte6z"
      },
      "outputs": [],
      "source": [
        "# from sklearn.model_selection import GridSearchCV\n",
        "# epochs = [5,10,15,20,50, 100]\n",
        "# batches = [5,10,15,20]\n",
        "# param_grid = dict(epochs=epochs, batch_size=batches)\n",
        "# grid = GridSearchCV(estimator=model, param_grid=param_grid, cv=skf.split(X_opt, y_opt_skf) , error_score='raise')\n",
        "# grid_result = grid.fit(X_opt, y_opt)"
      ]
    },
    {
      "cell_type": "code",
      "source": [
        "# print(\"Best: %f using %s\" % (grid_result.best_score_, grid_result.best_params_))\n",
        "# means = grid_result.cv_results_['mean_test_score']\n",
        "# stds = grid_result.cv_results_['std_test_score']\n",
        "# params = grid_result.cv_results_['params']\n",
        "# for mean, stdev, param in zip(means, stds, params):\n",
        "#     print(\"%f (%f) with: %r\" % (mean, stdev, param))"
      ],
      "metadata": {
        "id": "I7gLS8UhMqoO"
      },
      "execution_count": 76,
      "outputs": []
    },
    {
      "cell_type": "markdown",
      "source": [
        "# Model Training"
      ],
      "metadata": {
        "id": "2zYuVbbPhkSy"
      }
    },
    {
      "cell_type": "code",
      "source": [
        "model = LSTM_model()"
      ],
      "metadata": {
        "id": "qC9c0J9e4f-E",
        "colab": {
          "base_uri": "https://localhost:8080/"
        },
        "outputId": "adfcbb3b-5761-45d1-ba4e-fd08dbcc3723"
      },
      "execution_count": 77,
      "outputs": [
        {
          "output_type": "stream",
          "name": "stdout",
          "text": [
            "Model: \"sequential_2\"\n",
            "_________________________________________________________________\n",
            " Layer (type)                Output Shape              Param #   \n",
            "=================================================================\n",
            " cu_dnnlstm_8 (CuDNNLSTM)    (None, 5000, 512)         1056768   \n",
            "                                                                 \n",
            " dropout_6 (Dropout)         (None, 5000, 512)         0         \n",
            "                                                                 \n",
            " cu_dnnlstm_9 (CuDNNLSTM)    (None, 5000, 256)         788480    \n",
            "                                                                 \n",
            " dropout_7 (Dropout)         (None, 5000, 256)         0         \n",
            "                                                                 \n",
            " cu_dnnlstm_10 (CuDNNLSTM)   (None, 5000, 128)         197632    \n",
            "                                                                 \n",
            " dropout_8 (Dropout)         (None, 5000, 128)         0         \n",
            "                                                                 \n",
            " cu_dnnlstm_11 (CuDNNLSTM)   (None, 64)                49664     \n",
            "                                                                 \n",
            " dense_2 (Dense)             (None, 3)                 195       \n",
            "                                                                 \n",
            "=================================================================\n",
            "Total params: 2,092,739\n",
            "Trainable params: 2,092,739\n",
            "Non-trainable params: 0\n",
            "_________________________________________________________________\n"
          ]
        }
      ]
    },
    {
      "cell_type": "code",
      "execution_count": 78,
      "metadata": {
        "id": "QS-i0PHovw_z"
      },
      "outputs": [],
      "source": [
        "y_new= to_categorical(encoded_y)\n",
        "data_for_train_and_test= list(StratifiedKFold(n_splits=3, shuffle=True, random_state=42).split(X, y.str_comments))"
      ]
    },
    {
      "cell_type": "code",
      "source": [
        ""
      ],
      "metadata": {
        "id": "iTcz6wVpounD"
      },
      "execution_count": 78,
      "outputs": []
    },
    {
      "cell_type": "code",
      "source": [
        "X_test = X[data_for_train_and_test[0][1]]\n",
        "y_test = y_new[data_for_train_and_test[0][1]]\n",
        "X_train = X[data_for_train_and_test[0][0]]\n",
        "y_train = y_new[data_for_train_and_test[0][0]]\n",
        "x_train = np.asarray(X_train).astype(np.float32)\n",
        "x_test =  np.asarray(X_test).astype(np.float32)\n",
        "\n",
        "y_test=np.argmax(y_test, axis=1)"
      ],
      "metadata": {
        "id": "5B7r4FwU4NR8"
      },
      "execution_count": 79,
      "outputs": []
    },
    {
      "cell_type": "code",
      "source": [
        ""
      ],
      "metadata": {
        "id": "CvYXqBBdoD2Z"
      },
      "execution_count": 79,
      "outputs": []
    },
    {
      "cell_type": "code",
      "source": [
        "history = model.fit(x_train,y_train,batch_size = 5, epochs = 10)"
      ],
      "metadata": {
        "id": "Wsfm9NAx4k3Q",
        "colab": {
          "base_uri": "https://localhost:8080/"
        },
        "outputId": "9700eabf-1a09-445a-e898-815cfeffc6bc"
      },
      "execution_count": 80,
      "outputs": [
        {
          "output_type": "stream",
          "name": "stdout",
          "text": [
            "Epoch 1/10\n",
            "190/190 [==============================] - 80s 408ms/step - loss: 0.2183 - accuracy: 0.5295 - categorical_accuracy: 0.5295 - categorical_crossentropy: 0.9786\n",
            "Epoch 2/10\n",
            "190/190 [==============================] - 78s 410ms/step - loss: 0.1730 - accuracy: 0.7200 - categorical_accuracy: 0.7200 - categorical_crossentropy: 0.7883\n",
            "Epoch 3/10\n",
            "190/190 [==============================] - 78s 413ms/step - loss: 0.1501 - accuracy: 0.7358 - categorical_accuracy: 0.7358 - categorical_crossentropy: 0.6964\n",
            "Epoch 4/10\n",
            "190/190 [==============================] - 79s 414ms/step - loss: 0.1397 - accuracy: 0.7358 - categorical_accuracy: 0.7358 - categorical_crossentropy: 0.6669\n",
            "Epoch 5/10\n",
            "190/190 [==============================] - 79s 414ms/step - loss: 0.1344 - accuracy: 0.7358 - categorical_accuracy: 0.7358 - categorical_crossentropy: 0.6593\n",
            "Epoch 6/10\n",
            "190/190 [==============================] - 79s 415ms/step - loss: 0.1314 - accuracy: 0.7358 - categorical_accuracy: 0.7358 - categorical_crossentropy: 0.6605\n",
            "Epoch 7/10\n",
            "190/190 [==============================] - 79s 415ms/step - loss: 0.1296 - accuracy: 0.7358 - categorical_accuracy: 0.7358 - categorical_crossentropy: 0.6614\n",
            "Epoch 8/10\n",
            "190/190 [==============================] - 79s 415ms/step - loss: 0.1284 - accuracy: 0.7358 - categorical_accuracy: 0.7358 - categorical_crossentropy: 0.6644\n",
            "Epoch 9/10\n",
            "190/190 [==============================] - 79s 415ms/step - loss: 0.1277 - accuracy: 0.7358 - categorical_accuracy: 0.7358 - categorical_crossentropy: 0.6708\n",
            "Epoch 10/10\n",
            "190/190 [==============================] - 79s 416ms/step - loss: 0.1270 - accuracy: 0.7358 - categorical_accuracy: 0.7358 - categorical_crossentropy: 0.6735\n"
          ]
        }
      ]
    },
    {
      "cell_type": "markdown",
      "source": [
        "# Plot Training Information"
      ],
      "metadata": {
        "id": "K0yaLgEb34N5"
      }
    },
    {
      "cell_type": "code",
      "execution_count": 81,
      "metadata": {
        "id": "Loa-Nv9_DkVm",
        "colab": {
          "base_uri": "https://localhost:8080/",
          "height": 295
        },
        "outputId": "0cfd1bc4-d8c2-48d7-9c22-d6a02172cac6"
      },
      "outputs": [
        {
          "output_type": "display_data",
          "data": {
            "text/plain": [
              "<Figure size 432x288 with 1 Axes>"
            ],
            "image/png": "[encoded data removed]"
          },
          "metadata": {
            "needs_background": "light"
          }
        }
      ],
      "source": [
        "plt.plot(history.history['accuracy'])\n",
        "plt.plot(history.history['categorical_crossentropy'])\n",
        "plt.title('model accuracy')\n",
        "plt.ylabel('accuracy')\n",
        "plt.xlabel('epoch')\n",
        "plt.legend(['train', 'cross entropy'], loc='upper left')\n",
        "plt.show()"
      ]
    },
    {
      "cell_type": "code",
      "execution_count": 82,
      "metadata": {
        "id": "p3IkRvybza-C",
        "colab": {
          "base_uri": "https://localhost:8080/",
          "height": 283
        },
        "outputId": "37c6574f-4c8a-4e10-8e24-e08a009ae1e1"
      },
      "outputs": [
        {
          "output_type": "execute_result",
          "data": {
            "text/plain": [
              "[<matplotlib.lines.Line2D at 0x7f5857700cd0>]"
            ]
          },
          "metadata": {},
          "execution_count": 82
        },
        {
          "output_type": "display_data",
          "data": {
            "text/plain": [
              "<Figure size 432x288 with 1 Axes>"
            ],
            "image/png": "[encoded data removed]"
          },
          "metadata": {
            "needs_background": "light"
          }
        }
      ],
      "source": [
        "plt.plot(history.history['loss'])"
      ]
    },
    {
      "cell_type": "code",
      "execution_count": 83,
      "metadata": {
        "id": "PsaNR8SgzejZ"
      },
      "outputs": [],
      "source": [
        "y_pred = model.predict(x_test)"
      ]
    },
    {
      "cell_type": "code",
      "source": [
        "len(y_pred)"
      ],
      "metadata": {
        "colab": {
          "base_uri": "https://localhost:8080/"
        },
        "id": "_Xx6-bw3j-zL",
        "outputId": "c5726a6d-b39f-4812-99dc-bed944c90f1a"
      },
      "execution_count": 84,
      "outputs": [
        {
          "output_type": "execute_result",
          "data": {
            "text/plain": [
              "475"
            ]
          },
          "metadata": {},
          "execution_count": 84
        }
      ]
    },
    {
      "cell_type": "code",
      "source": [
        "from sklearn.metrics import ConfusionMatrixDisplay\n",
        "import seaborn as sns\n"
      ],
      "metadata": {
        "id": "yYFPa1rkgDbL"
      },
      "execution_count": 85,
      "outputs": []
    },
    {
      "cell_type": "code",
      "source": [
        "def visualise(test, pred):\n",
        "  pred =np.argmax(pred, axis=1)\n",
        "\n",
        "  cm = confusion_matrix(test, pred)\n",
        "\n",
        "  cm_df = pd.DataFrame(cm,\n",
        "                     index = ['non-atrial-fibrillation','persistent-atrial-fibrillation','paroxysmal-atrial-fibrillation'], \n",
        "                     columns = ['non-atrial-fibrillation','persistent-atrial-fibrillation','paroxysmal-atrial-fibrillation'])\n",
        "  plt.figure(figsize=(5,4))\n",
        "  sns.heatmap(cm_df, annot=True, fmt='g')\n",
        "  plt.title('Confusion Matrix')\n",
        "  plt.ylabel('Actual Values')\n",
        "  plt.xlabel('Predicted Values')\n",
        "  plt.show()"
      ],
      "metadata": {
        "id": "YAD086Svgd9P"
      },
      "execution_count": 86,
      "outputs": []
    },
    {
      "cell_type": "code",
      "source": [
        "visualise(y_test, y_pred)"
      ],
      "metadata": {
        "colab": {
          "base_uri": "https://localhost:8080/",
          "height": 427
        },
        "id": "cwgaovWVkmMV",
        "outputId": "d1f48d6a-0aec-41c2-d542-8a912130cd10"
      },
      "execution_count": 87,
      "outputs": [
        {
          "output_type": "display_data",
          "data": {
            "text/plain": [
              "<Figure size 360x288 with 2 Axes>"
            ],
            "image/png": "[encoded data removed]"
          },
          "metadata": {
            "needs_background": "light"
          }
        }
      ]
    },
    {
      "cell_type": "code",
      "source": [
        "from sklearn.metrics import precision_score, recall_score, f1_score, accuracy_score\n",
        "def metrics(test, pred):\n",
        "\n",
        "    pred=np.argmax(pred, axis=1)\n",
        "    print('Precision: %.3f' % precision_score(test, pred,average='weighted'))\n",
        "    print('Recall: %.3f' % recall_score(test, pred, average='weighted'))\n",
        "    print('Accuracy: %.3f' % accuracy_score(test, pred))\n",
        "    print('F1 Score: %.3f' % f1_score(test, pred, average='weighted'))"
      ],
      "metadata": {
        "id": "AHjgRu8hFZt4"
      },
      "execution_count": 88,
      "outputs": []
    },
    {
      "cell_type": "code",
      "source": [
        "metrics(y_test, y_pred)"
      ],
      "metadata": {
        "colab": {
          "base_uri": "https://localhost:8080/"
        },
        "id": "DtLeUTOvWypA",
        "outputId": "7fb92958-bdd7-4dcf-ca91-533efdad913f"
      },
      "execution_count": 89,
      "outputs": [
        {
          "output_type": "stream",
          "name": "stdout",
          "text": [
            "Precision: 0.659\n",
            "Recall: 0.714\n",
            "Accuracy: 0.714\n",
            "F1 Score: 0.663\n"
          ]
        },
        {
          "output_type": "stream",
          "name": "stderr",
          "text": [
            "/usr/local/lib/python3.7/dist-packages/sklearn/metrics/_classification.py:1318: UndefinedMetricWarning: Precision is ill-defined and being set to 0.0 in labels with no predicted samples. Use `zero_division` parameter to control this behavior.\n",
            "  _warn_prf(average, modifier, msg_start, len(result))\n"
          ]
        }
      ]
    },
    {
      "cell_type": "markdown",
      "source": [
        "# Training using GRU Model"
      ],
      "metadata": {
        "id": "rZhzVn6gxaYV"
      }
    },
    {
      "cell_type": "code",
      "source": [
        "def GRU_Model(learn_rate = 0.001, momentum = 0.8):\n",
        "  model = Sequential()\n",
        "  model.add(CuDNNGRU(512, input_shape =(signal_data[0].shape), return_sequences=True))\n",
        "  model.add(Dropout(0.2))\n",
        "  model.add(CuDNNGRU(256, return_sequences=True))\n",
        "  model.add(Dropout(0.2))\n",
        "  model.add(CuDNNGRU(128 , return_sequences=True))\n",
        "  model.add(Dropout(0.2))\n",
        "  model.add(CuDNNGRU(64))\n",
        "  model.add(Dense(3, activation='softmax'))\n",
        "  optimizer = tf.keras.optimizers.SGD(learning_rate=learn_rate, momentum = momentum)\n",
        "  model.compile(loss='MSE', optimizer=optimizer, metrics=['accuracy','categorical_accuracy',\"categorical_crossentropy\"])\n",
        "  model.summary()\n",
        "  return model"
      ],
      "metadata": {
        "id": "OiPF7rVZzsRL"
      },
      "execution_count": 90,
      "outputs": []
    },
    {
      "cell_type": "code",
      "source": [
        "g_model = GRU_Model()"
      ],
      "metadata": {
        "colab": {
          "base_uri": "https://localhost:8080/"
        },
        "id": "zc8rTNPUnYDU",
        "outputId": "c8d29d87-3193-48d8-8ba9-3436fc665d78"
      },
      "execution_count": 91,
      "outputs": [
        {
          "output_type": "stream",
          "name": "stdout",
          "text": [
            "Model: \"sequential_3\"\n",
            "_________________________________________________________________\n",
            " Layer (type)                Output Shape              Param #   \n",
            "=================================================================\n",
            " cu_dnngru (CuDNNGRU)        (None, 5000, 512)         792576    \n",
            "                                                                 \n",
            " dropout_9 (Dropout)         (None, 5000, 512)         0         \n",
            "                                                                 \n",
            " cu_dnngru_1 (CuDNNGRU)      (None, 5000, 256)         591360    \n",
            "                                                                 \n",
            " dropout_10 (Dropout)        (None, 5000, 256)         0         \n",
            "                                                                 \n",
            " cu_dnngru_2 (CuDNNGRU)      (None, 5000, 128)         148224    \n",
            "                                                                 \n",
            " dropout_11 (Dropout)        (None, 5000, 128)         0         \n",
            "                                                                 \n",
            " cu_dnngru_3 (CuDNNGRU)      (None, 64)                37248     \n",
            "                                                                 \n",
            " dense_3 (Dense)             (None, 3)                 195       \n",
            "                                                                 \n",
            "=================================================================\n",
            "Total params: 1,569,603\n",
            "Trainable params: 1,569,603\n",
            "Non-trainable params: 0\n",
            "_________________________________________________________________\n"
          ]
        }
      ]
    },
    {
      "cell_type": "code",
      "source": [
        "GRU_history = g_model.fit(x_train,y_train, batch_size = 5, epochs = 10)"
      ],
      "metadata": {
        "colab": {
          "base_uri": "https://localhost:8080/"
        },
        "id": "IEdEfrganYbf",
        "outputId": "ab298532-de69-4f71-85fa-81d47c47f6bb"
      },
      "execution_count": 92,
      "outputs": [
        {
          "output_type": "stream",
          "name": "stdout",
          "text": [
            "Epoch 1/10\n",
            "190/190 [==============================] - 76s 375ms/step - loss: 0.1756 - accuracy: 0.7316 - categorical_accuracy: 0.7316 - categorical_crossentropy: 0.9026\n",
            "Epoch 2/10\n",
            "190/190 [==============================] - 71s 375ms/step - loss: 0.1340 - accuracy: 0.7358 - categorical_accuracy: 0.7358 - categorical_crossentropy: 0.7229\n",
            "Epoch 3/10\n",
            "190/190 [==============================] - 71s 375ms/step - loss: 0.1275 - accuracy: 0.7358 - categorical_accuracy: 0.7358 - categorical_crossentropy: 0.6850\n",
            "Epoch 4/10\n",
            "190/190 [==============================] - 71s 375ms/step - loss: 0.1253 - accuracy: 0.7358 - categorical_accuracy: 0.7358 - categorical_crossentropy: 0.6698\n",
            "Epoch 5/10\n",
            "190/190 [==============================] - 71s 375ms/step - loss: 0.1250 - accuracy: 0.7358 - categorical_accuracy: 0.7358 - categorical_crossentropy: 0.6665\n",
            "Epoch 6/10\n",
            "190/190 [==============================] - 71s 376ms/step - loss: 0.1244 - accuracy: 0.7358 - categorical_accuracy: 0.7358 - categorical_crossentropy: 0.6611\n",
            "Epoch 7/10\n",
            "190/190 [==============================] - 71s 376ms/step - loss: 0.1246 - accuracy: 0.7358 - categorical_accuracy: 0.7358 - categorical_crossentropy: 0.6622\n",
            "Epoch 8/10\n",
            "190/190 [==============================] - 71s 376ms/step - loss: 0.1242 - accuracy: 0.7358 - categorical_accuracy: 0.7358 - categorical_crossentropy: 0.6590\n",
            "Epoch 9/10\n",
            "190/190 [==============================] - 71s 376ms/step - loss: 0.1242 - accuracy: 0.7358 - categorical_accuracy: 0.7358 - categorical_crossentropy: 0.6578\n",
            "Epoch 10/10\n",
            "190/190 [==============================] - 72s 377ms/step - loss: 0.1242 - accuracy: 0.7358 - categorical_accuracy: 0.7358 - categorical_crossentropy: 0.6580\n"
          ]
        }
      ]
    },
    {
      "cell_type": "markdown",
      "source": [
        "# Prediction and Visualisation using GRU Model"
      ],
      "metadata": {
        "id": "FKk_WtTyhuXK"
      }
    },
    {
      "cell_type": "code",
      "source": [
        "plt.plot(GRU_history.history['accuracy'])\n",
        "plt.plot(GRU_history.history['categorical_crossentropy'])\n",
        "plt.title('model accuracy')\n",
        "plt.ylabel('accuracy')\n",
        "plt.xlabel('epoch')\n",
        "plt.legend(['train', 'cross entropy loss'], loc='upper left')\n",
        "plt.show()"
      ],
      "metadata": {
        "colab": {
          "base_uri": "https://localhost:8080/",
          "height": 295
        },
        "id": "TzQssSJQtTZs",
        "outputId": "7624b940-7b84-451a-f67e-df7df1bda75f"
      },
      "execution_count": 93,
      "outputs": [
        {
          "output_type": "display_data",
          "data": {
            "text/plain": [
              "<Figure size 432x288 with 1 Axes>"
            ],
            "image/png": "[encoded data removed]"
          },
          "metadata": {
            "needs_background": "light"
          }
        }
      ]
    },
    {
      "cell_type": "code",
      "source": [
        "GRU_pred = g_model.predict(x_test)"
      ],
      "metadata": {
        "id": "tTwA3_L9VxRA"
      },
      "execution_count": 94,
      "outputs": []
    },
    {
      "cell_type": "code",
      "source": [
        "visualise(y_test, GRU_pred)"
      ],
      "metadata": {
        "colab": {
          "base_uri": "https://localhost:8080/",
          "height": 427
        },
        "id": "HIEx9cSYV8wx",
        "outputId": "7a4f0640-4b81-4572-d921-0d702fdc7c30"
      },
      "execution_count": 95,
      "outputs": [
        {
          "output_type": "display_data",
          "data": {
            "text/plain": [
              "<Figure size 360x288 with 2 Axes>"
            ],
            "image/png": "[encoded data removed]"
          },
          "metadata": {
            "needs_background": "light"
          }
        }
      ]
    },
    {
      "cell_type": "code",
      "source": [
        "metrics(y_test, GRU_pred)"
      ],
      "metadata": {
        "colab": {
          "base_uri": "https://localhost:8080/"
        },
        "id": "4nLjhhp6WTxm",
        "outputId": "961efd3f-8b75-4f81-8e53-dec86e5ca5ef"
      },
      "execution_count": 96,
      "outputs": [
        {
          "output_type": "stream",
          "name": "stdout",
          "text": [
            "Precision: 0.659\n",
            "Recall: 0.714\n",
            "Accuracy: 0.714\n",
            "F1 Score: 0.663\n"
          ]
        },
        {
          "output_type": "stream",
          "name": "stderr",
          "text": [
            "/usr/local/lib/python3.7/dist-packages/sklearn/metrics/_classification.py:1318: UndefinedMetricWarning: Precision is ill-defined and being set to 0.0 in labels with no predicted samples. Use `zero_division` parameter to control this behavior.\n",
            "  _warn_prf(average, modifier, msg_start, len(result))\n"
          ]
        }
      ]
    }
  ],
  "metadata": {
    "colab": {
      "collapsed_sections": [
        "XaJDnsdhvDGg",
        "Zbylp9ungJ7z"
      ],
      "name": "ECGClassification.ipynb",
      "provenance": []
    },
    "kernelspec": {
      "display_name": "Python 3",
      "name": "python3"
    },
    "language_info": {
      "name": "python"
    },
    "accelerator": "GPU",
    "gpuClass": "standard"
  },
  "nbformat": 4,
  "nbformat_minor": 0
}